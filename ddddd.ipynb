{
 "cells": [
  {
   "cell_type": "markdown",
   "id": "75a454d8",
   "metadata": {},
   "source": [
    "# Analysis of changes in nightly lows at DCA Reagan National Airport over last 60 years¶"
   ]
  },
  {
   "cell_type": "markdown",
   "id": "7e15c339",
   "metadata": {},
   "source": []
  },
  {
   "cell_type": "markdown",
   "id": "f36fe7b4",
   "metadata": {},
   "source": [
    "Everyone is aware of global worming caused by the increased CO2 content and CH4 content in our atmosphere, the former being caused by the combustion of fossile fuels and the latter being caused by thawing of tundra and gas flares.  It is also well known that the international community strives to limit global warming by about 1.5 fahrenheit degrees.  Nevertheless, authorities say we may have reached this 1.5 fahrenheit degree increase.  \n",
    "\n",
    "This project looks at the change in nightly lows in the last 60 years in Washington DC to see how it has changed as compared to the global increase of 1.5 fahrenheit degrees.  Is the change in nightly lows greater?  Why?  Can this be all attributed to global warming?  Or are other factors at play here such as the urban heat island effect?  \n",
    "\n",
    "Of particular note, after living in Washington DC for some time, I notice that on the local news, the record lows are in the negative double digits in Fahrenheit.  But it has almost never gotten below 10F sinche I have been here, which is 25 years.  Why?  Can I show this on a graph?  Why is this so?  Certainly a global warming of 1.5 Fahrenheit degrees could not solely be the cause of never getting within 20 Fahrenheit degrees of our past record lows.  \n",
    "\n",
    "This project will explore these issues.  \n",
    "   \n",
    "The data was imported from the National Centers for Environmental Information of NOAA (i.e. the National Weather Service)"
   ]
  },
  {
   "cell_type": "markdown",
   "id": "5f4142de",
   "metadata": {},
   "source": [
    "## After downloading data to my local PC, I now read it in and inspect it. Notice that only the date and the minimum temperatures in Fahrenheit are read in"
   ]
  },
  {
   "cell_type": "code",
   "execution_count": 29,
   "id": "03eeff4b",
   "metadata": {},
   "outputs": [
    {
     "name": "stdout",
     "output_type": "stream",
     "text": [
      "       STATION      DATE   MAX   MIN   SNDP\n",
      "0  72405013743  01/01/60  44.4  28.4  999.9\n",
      "1  72405013743  01/02/60  39.4  28.4  999.9\n",
      "2  72405013743  01/03/60  53.4  37.4  999.9\n",
      "3  72405013743  01/04/60  44.4  34.3  999.9\n",
      "4  72405013743  01/05/60  43.3  35.4  999.9\n",
      "ldlsl\n"
     ]
    }
   ],
   "source": [
    "import pandas as pd\n",
    "# Program to extract number\n",
    "# of rows using Python\n",
    "#import xlrd\n",
    " \n",
    "# Give the location of the file\n",
    "#loc = (\"C:\\Users\\user\\Downloads\\rocmintemp1a.csv\")\n",
    "df = pd.read_csv(\"C:\\\\Users\\\\Matthew\\\\Desktop\\\\datasets\\\\reagan1a.csv\")\n",
    "print(df.head())\n",
    "print('ldlsl')"
   ]
  },
  {
   "cell_type": "markdown",
   "id": "109f4216",
   "metadata": {},
   "source": [
    "### I now explore the read in data# "
   ]
  },
  {
   "cell_type": "code",
   "execution_count": 30,
   "id": "4a57eb97",
   "metadata": {},
   "outputs": [
    {
     "name": "stdout",
     "output_type": "stream",
     "text": [
      "<class 'pandas.core.frame.DataFrame'>\n",
      "RangeIndex: 21023 entries, 0 to 21022\n",
      "Data columns (total 5 columns):\n",
      " #   Column   Non-Null Count  Dtype  \n",
      "---  ------   --------------  -----  \n",
      " 0   STATION  21023 non-null  int64  \n",
      " 1   DATE     21023 non-null  object \n",
      " 2   MAX      21023 non-null  float64\n",
      " 3   MIN      21023 non-null  float64\n",
      " 4   SNDP     21023 non-null  float64\n",
      "dtypes: float64(3), int64(1), object(1)\n",
      "memory usage: 821.3+ KB\n",
      "None\n"
     ]
    }
   ],
   "source": [
    "print(df.info())"
   ]
  },
  {
   "cell_type": "markdown",
   "id": "d1bdbb04",
   "metadata": {},
   "source": [
    "### do note that the date column is object type. This will have to be converted to datetime"
   ]
  },
  {
   "cell_type": "code",
   "execution_count": 31,
   "id": "2a45d852",
   "metadata": {},
   "outputs": [
    {
     "name": "stdout",
     "output_type": "stream",
     "text": [
      "(21023, 5)\n"
     ]
    }
   ],
   "source": [
    "print(df.shape)"
   ]
  },
  {
   "cell_type": "code",
   "execution_count": 32,
   "id": "57b803f5",
   "metadata": {},
   "outputs": [
    {
     "name": "stdout",
     "output_type": "stream",
     "text": [
      "            STATION           MAX           MIN          SNDP\n",
      "count  2.102300e+04  21023.000000  21023.000000  21023.000000\n",
      "mean   7.240501e+10     69.103458     49.516306    965.005061\n",
      "std    0.000000e+00     17.700534     70.647539    183.208539\n",
      "min    7.240501e+10      8.100000     -5.100000      0.400000\n",
      "25%    7.240501e+10     55.000000     35.100000    999.900000\n",
      "50%    7.240501e+10     71.100000     48.900000    999.900000\n",
      "75%    7.240501e+10     84.400000     64.000000    999.900000\n",
      "max    7.240501e+10    105.100000   9999.900000    999.900000\n"
     ]
    }
   ],
   "source": [
    "print(df.describe())"
   ]
  },
  {
   "cell_type": "markdown",
   "id": "09ccd279",
   "metadata": {},
   "source": [
    "### do note the min temp of 9999.000. This row will have to be removed in a cleaning step"
   ]
  },
  {
   "cell_type": "code",
   "execution_count": 33,
   "id": "dbff7cbc",
   "metadata": {},
   "outputs": [
    {
     "name": "stdout",
     "output_type": "stream",
     "text": [
      "68.0    384\n",
      "72.0    365\n",
      "32.0    358\n",
      "34.0    348\n",
      "70.0    347\n",
      "       ... \n",
      "66.6      1\n",
      "71.8      1\n",
      "74.7      1\n",
      "74.1      1\n",
      "12.2      1\n",
      "Name: MIN, Length: 354, dtype: int64\n"
     ]
    }
   ],
   "source": [
    "print(df['MIN'].value_counts())"
   ]
  },
  {
   "cell_type": "code",
   "execution_count": 34,
   "id": "5a08bcf7",
   "metadata": {},
   "outputs": [
    {
     "name": "stdout",
     "output_type": "stream",
     "text": [
      "(21022, 5)\n"
     ]
    }
   ],
   "source": [
    "df2 = df[df['MIN'] < 100.0]\n",
    "print(df2.shape)"
   ]
  },
  {
   "cell_type": "markdown",
   "id": "7c1766b6",
   "metadata": {},
   "source": [
    "## only one row was eliminated in this cleaning step"
   ]
  },
  {
   "cell_type": "code",
   "execution_count": 35,
   "id": "be6e7711",
   "metadata": {},
   "outputs": [
    {
     "name": "stdout",
     "output_type": "stream",
     "text": [
      "           STATION      DATE   MAX   MIN   SNDP\n",
      "0      72405013743  01/01/60  44.4  28.4  999.9\n",
      "1      72405013743  01/02/60  39.4  28.4  999.9\n",
      "2      72405013743  01/03/60  53.4  37.4  999.9\n",
      "3      72405013743  01/04/60  44.4  34.3  999.9\n",
      "4      72405013743  01/05/60  43.3  35.4  999.9\n",
      "...            ...       ...   ...   ...    ...\n",
      "21018  72405013743  12/27/21  62.1  39.9  999.9\n",
      "21019  72405013743  12/28/21  57.9  39.0  999.9\n",
      "21020  72405013743  12/29/21  57.9  39.9  999.9\n",
      "21021  72405013743  12/30/21  55.0  46.9  999.9\n",
      "21022  72405013743  12/31/21  59.0  46.9  999.9\n",
      "\n",
      "[21022 rows x 5 columns]\n"
     ]
    }
   ],
   "source": [
    "print(df2)"
   ]
  },
  {
   "cell_type": "code",
   "execution_count": 36,
   "id": "ed4e73a1",
   "metadata": {},
   "outputs": [
    {
     "name": "stdout",
     "output_type": "stream",
     "text": [
      "(21022, 5)\n"
     ]
    }
   ],
   "source": [
    "df2 = df2[df2['MIN'] > -43.0]\n",
    "print(df2.shape)"
   ]
  },
  {
   "cell_type": "code",
   "execution_count": 37,
   "id": "96995b82",
   "metadata": {},
   "outputs": [
    {
     "name": "stdout",
     "output_type": "stream",
     "text": [
      "(21022, 5)\n",
      "        STATION       DATE   MAX   MIN   SNDP\n",
      "0   72405013743 2060-01-01  44.4  28.4  999.9\n",
      "1   72405013743 2060-01-02  39.4  28.4  999.9\n",
      "2   72405013743 2060-01-03  53.4  37.4  999.9\n",
      "3   72405013743 2060-01-04  44.4  34.3  999.9\n",
      "4   72405013743 2060-01-05  43.3  35.4  999.9\n",
      "..          ...        ...   ...   ...    ...\n",
      "85  72405013743 2060-03-26  51.3  32.4  999.9\n",
      "86  72405013743 2060-03-27  66.4  31.3  999.9\n",
      "87  72405013743 2060-03-28  80.2  52.3  999.9\n",
      "88  72405013743 2060-03-29  74.3  52.3  999.9\n",
      "89  72405013743 2060-03-30  69.3  59.4  999.9\n",
      "\n",
      "[90 rows x 5 columns]\n"
     ]
    }
   ],
   "source": [
    "df2['DATE'] = pd.to_datetime(df['DATE'])\n",
    "\n",
    "print(df2.shape)\n",
    "print(df2.head(90))"
   ]
  },
  {
   "cell_type": "markdown",
   "id": "04b92654",
   "metadata": {},
   "source": [
    "### Unfortunately, dates in the 1960's are automatically converted to 2060's by pandas to_datetime function. The code below corrects this"
   ]
  },
  {
   "cell_type": "code",
   "execution_count": 38,
   "id": "b1a0c849",
   "metadata": {},
   "outputs": [
    {
     "name": "stdout",
     "output_type": "stream",
     "text": [
      "           STATION       DATE   MAX   MIN   SNDP\n",
      "21018  72405013743 2021-12-27  62.1  39.9  999.9\n",
      "21019  72405013743 2021-12-28  57.9  39.0  999.9\n",
      "21020  72405013743 2021-12-29  57.9  39.9  999.9\n",
      "21021  72405013743 2021-12-30  55.0  46.9  999.9\n",
      "21022  72405013743 2021-12-31  59.0  46.9  999.9\n"
     ]
    }
   ],
   "source": [
    "date_separator = pd.to_datetime(\"20250101\")\n",
    "century = pd.DateOffset(years=100)\n",
    "before_separator = df2['DATE'] > date_separator\n",
    "df2.loc[before_separator , 'DATE'] = df2['DATE'] - century\n",
    "print(df2.tail())"
   ]
  },
  {
   "cell_type": "code",
   "execution_count": 39,
   "id": "c509d78e",
   "metadata": {},
   "outputs": [
    {
     "name": "stdout",
     "output_type": "stream",
     "text": [
      "       STATION       DATE   MAX   MIN   SNDP  year  month\n",
      "0  72405013743 1960-01-01  44.4  28.4  999.9  1960      1\n",
      "1  72405013743 1960-01-02  39.4  28.4  999.9  1960      1\n",
      "2  72405013743 1960-01-03  53.4  37.4  999.9  1960      1\n",
      "3  72405013743 1960-01-04  44.4  34.3  999.9  1960      1\n",
      "4  72405013743 1960-01-05  43.3  35.4  999.9  1960      1\n",
      "           STATION       DATE   MAX   MIN   SNDP  year  month\n",
      "21018  72405013743 2021-12-27  62.1  39.9  999.9  2021     12\n",
      "21019  72405013743 2021-12-28  57.9  39.0  999.9  2021     12\n",
      "21020  72405013743 2021-12-29  57.9  39.9  999.9  2021     12\n",
      "21021  72405013743 2021-12-30  55.0  46.9  999.9  2021     12\n",
      "21022  72405013743 2021-12-31  59.0  46.9  999.9  2021     12\n"
     ]
    }
   ],
   "source": [
    "df2['year'] = df2['DATE'].dt.year\n",
    "df2['month'] = df2['DATE'].dt.month\n",
    "print(df2.head())\n",
    "print(df2.tail())"
   ]
  },
  {
   "cell_type": "markdown",
   "id": "12c1fdb9",
   "metadata": {},
   "source": [
    "## lets focus on the coldest months of the year for df3, that being Dec thru March"
   ]
  },
  {
   "cell_type": "code",
   "execution_count": 40,
   "id": "4ac1c31c",
   "metadata": {},
   "outputs": [
    {
     "name": "stdout",
     "output_type": "stream",
     "text": [
      "(6985, 7)\n"
     ]
    }
   ],
   "source": [
    "df3 = df2[(df2['month'] == 12) | (df2['month'] < 4)]\n",
    "print(df3.shape)"
   ]
  },
  {
   "cell_type": "markdown",
   "id": "31a5400a",
   "metadata": {},
   "source": [
    "### Unfortunately, December is of a different year than Jan thru March. I'll remedy this issue by adding a new column called 'season' to allow for December to be grouped with Jan thru March of the next calendar year"
   ]
  },
  {
   "cell_type": "code",
   "execution_count": 41,
   "id": "146b9ae2",
   "metadata": {},
   "outputs": [
    {
     "name": "stdout",
     "output_type": "stream",
     "text": [
      "       STATION       DATE   MAX   MIN   SNDP  year  month     season\n",
      "0  72405013743 1960-01-01  44.4  28.4  999.9  1960      1  1959/1960\n",
      "1  72405013743 1960-01-02  39.4  28.4  999.9  1960      1  1959/1960\n",
      "2  72405013743 1960-01-03  53.4  37.4  999.9  1960      1  1959/1960\n",
      "3  72405013743 1960-01-04  44.4  34.3  999.9  1960      1  1959/1960\n",
      "4  72405013743 1960-01-05  43.3  35.4  999.9  1960      1  1959/1960\n",
      "           STATION       DATE   MAX   MIN   SNDP  year  month     season\n",
      "21018  72405013743 2021-12-27  62.1  39.9  999.9  2021     12  2021/2022\n",
      "21019  72405013743 2021-12-28  57.9  39.0  999.9  2021     12  2021/2022\n",
      "21020  72405013743 2021-12-29  57.9  39.9  999.9  2021     12  2021/2022\n",
      "21021  72405013743 2021-12-30  55.0  46.9  999.9  2021     12  2021/2022\n",
      "21022  72405013743 2021-12-31  59.0  46.9  999.9  2021     12  2021/2022\n"
     ]
    },
    {
     "name": "stderr",
     "output_type": "stream",
     "text": [
      "C:\\Users\\Matthew\\AppData\\Local\\Temp/ipykernel_11992/956247562.py:1: SettingWithCopyWarning: \n",
      "A value is trying to be set on a copy of a slice from a DataFrame.\n",
      "Try using .loc[row_indexer,col_indexer] = value instead\n",
      "\n",
      "See the caveats in the documentation: https://pandas.pydata.org/pandas-docs/stable/user_guide/indexing.html#returning-a-view-versus-a-copy\n",
      "  df3['season'] = df3.apply(lambda x: f\"{x['year']-1}/{x['year']}\" if x['month'] <= 3 else f\"{x['year']}/{x['year']+1}\", axis=1)\n"
     ]
    }
   ],
   "source": [
    "df3['season'] = df3.apply(lambda x: f\"{x['year']-1}/{x['year']}\" if x['month'] <= 3 else f\"{x['year']}/{x['year']+1}\", axis=1)\n",
    "print(df3.head())\n",
    "print(df3.tail())"
   ]
  },
  {
   "cell_type": "code",
   "execution_count": 42,
   "id": "26e09bcf",
   "metadata": {},
   "outputs": [],
   "source": [
    "meeny = df3.groupby(['season'])['MIN'].mean()"
   ]
  },
  {
   "cell_type": "markdown",
   "id": "d82211fd",
   "metadata": {},
   "source": [
    "### we will now calculate the average low temperature in Fahrenheit for each winter season of Dec 1 to March 31 for each year 1960 to 2021"
   ]
  },
  {
   "cell_type": "code",
   "execution_count": 43,
   "id": "7fa9befb",
   "metadata": {},
   "outputs": [
    {
     "name": "stdout",
     "output_type": "stream",
     "text": [
      "season\n",
      "1959/1960    32.059341\n",
      "1960/1961    31.197521\n",
      "1961/1962    32.337190\n",
      "1962/1963    29.527273\n",
      "1963/1964    32.724590\n",
      "1964/1965    32.616529\n",
      "1965/1966    34.420000\n",
      "1966/1967    34.553571\n",
      "1967/1968    33.627711\n",
      "1968/1969    32.641975\n",
      "1972/1973    34.700000\n",
      "1973/1974    34.019008\n",
      "1974/1975    32.766116\n",
      "1975/1976    32.405785\n",
      "1976/1977    27.245455\n",
      "1977/1978    27.673554\n",
      "1978/1979    29.538017\n",
      "1979/1980    31.732787\n",
      "1980/1981    30.874380\n",
      "1981/1982    28.356198\n",
      "1982/1983    33.428926\n",
      "1983/1984    29.482787\n",
      "1984/1985    31.132231\n",
      "1985/1986    29.024793\n",
      "1986/1987    30.136364\n",
      "1987/1988    29.795082\n",
      "1988/1989    30.742975\n",
      "1989/1990    31.295868\n",
      "1990/1991    33.113223\n",
      "1991/1992    31.614754\n",
      "1992/1993    30.095041\n",
      "1993/1994    27.407438\n",
      "1994/1995    32.006612\n",
      "1995/1996    27.830328\n",
      "1996/1997    35.058678\n",
      "1997/1998    35.361157\n",
      "1998/1999    33.922314\n",
      "1999/2000    32.886885\n",
      "2000/2001    28.544628\n",
      "2001/2002    33.959504\n",
      "2002/2003    28.538017\n",
      "2003/2004    29.536885\n",
      "2004/2005    30.141322\n",
      "2005/2006    31.814050\n",
      "2006/2007    31.140496\n",
      "2007/2008    33.672951\n",
      "2008/2009    29.396694\n",
      "2009/2010    31.237190\n",
      "2010/2011    29.948760\n",
      "2011/2012    36.978689\n",
      "2012/2013    33.338017\n",
      "2013/2014    28.662810\n",
      "2014/2015    29.544628\n",
      "2015/2016    35.318852\n",
      "2016/2017    34.548760\n",
      "2017/2018    31.113223\n",
      "2018/2019    32.851240\n",
      "2019/2020    35.828689\n",
      "2020/2021    33.348760\n",
      "2021/2022    36.893548\n",
      "Name: MIN, dtype: float64\n"
     ]
    }
   ],
   "source": [
    "print(meeny)"
   ]
  },
  {
   "cell_type": "code",
   "execution_count": 44,
   "id": "6fdfc82b",
   "metadata": {},
   "outputs": [
    {
     "data": {
      "image/png": "[encoded data removed]",
      "text/plain": [
       "<Figure size 432x288 with 1 Axes>"
      ]
     },
     "metadata": {
      "needs_background": "light"
     },
     "output_type": "display_data"
    }
   ],
   "source": [
    "import matplotlib.pyplot as plt\n",
    "plt.plot(meeny)\n",
    "plt.show()"
   ]
  },
  {
   "cell_type": "code",
   "execution_count": 45,
   "id": "b8e42499",
   "metadata": {},
   "outputs": [
    {
     "data": {
      "image/png": "[encoded data removed]",
      "text/plain": [
       "<Figure size 432x288 with 1 Axes>"
      ]
     },
     "metadata": {
      "needs_background": "light"
     },
     "output_type": "display_data"
    }
   ],
   "source": [
    "import matplotlib.pyplot as plt\n",
    "plt.plot(meeny.rolling(7).mean())\n",
    "plt.show()"
   ]
  },
  {
   "cell_type": "markdown",
   "id": "316d0e4d",
   "metadata": {},
   "source": [
    "## Aside from the epic winters of the late 1970's, it seems that the average nightly winter low has steadily increased since the 1970s. This is best shown in the lower graph which is a rolling average of 7 years past.   Moreover,  in the last few years of 2017 to 2021, low temps have increased dramatically as compared to the 1.5 Fahrenheit increase in global temperatures.\n",
    "\n",
    "## Now, I will focus on the number of nightly lows each season that dropped below a certain threshold. I played around and it seamed that a threshold of 20F gave significant data"
   ]
  },
  {
   "cell_type": "code",
   "execution_count": 46,
   "id": "db01515f",
   "metadata": {},
   "outputs": [
    {
     "name": "stdout",
     "output_type": "stream",
     "text": [
      "season\n",
      "1959/1960     4\n",
      "1960/1961    22\n",
      "1961/1962     9\n",
      "1962/1963    24\n",
      "1963/1964    10\n",
      "1964/1965    13\n",
      "1965/1966     5\n",
      "1966/1967     5\n",
      "1967/1968     7\n",
      "1968/1969     4\n",
      "1972/1973    12\n",
      "1973/1974     2\n",
      "1974/1975     7\n",
      "1975/1976    16\n",
      "1976/1977    43\n",
      "1977/1978    34\n",
      "1978/1979    22\n",
      "1979/1980    13\n",
      "1980/1981    27\n",
      "1981/1982    21\n",
      "1982/1983    10\n",
      "1983/1984    18\n",
      "1984/1985    19\n",
      "1985/1986    25\n",
      "1986/1987     8\n",
      "1987/1988    22\n",
      "1988/1989    12\n",
      "1989/1990    19\n",
      "1990/1991    10\n",
      "1991/1992    10\n",
      "1992/1993    14\n",
      "1993/1994    26\n",
      "1994/1995    13\n",
      "1995/1996    28\n",
      "1996/1997     6\n",
      "1997/1998     2\n",
      "1998/1999     8\n",
      "1999/2000    10\n",
      "2000/2001    14\n",
      "2001/2002     4\n",
      "2002/2003    23\n",
      "2003/2004    23\n",
      "2004/2005    19\n",
      "2005/2006     4\n",
      "2006/2007    24\n",
      "2007/2008     3\n",
      "2008/2009    17\n",
      "2009/2010    15\n",
      "2010/2011     6\n",
      "2011/2012     2\n",
      "2012/2013     7\n",
      "2013/2014    21\n",
      "2014/2015    23\n",
      "2015/2016    14\n",
      "2016/2017     6\n",
      "2017/2018    19\n",
      "2018/2019     8\n",
      "2019/2020     0\n",
      "2020/2021     0\n",
      "2021/2022     0\n",
      "Name: MIN, dtype: int64\n"
     ]
    }
   ],
   "source": [
    "zippo = df3.groupby('season')['MIN'].apply(lambda x: x[x < 20.0].count())\n",
    "print(zippo)"
   ]
  },
  {
   "cell_type": "code",
   "execution_count": 47,
   "id": "b80a278d",
   "metadata": {},
   "outputs": [
    {
     "data": {
      "image/png": "[encoded data removed]",
      "text/plain": [
       "<Figure size 432x288 with 1 Axes>"
      ]
     },
     "metadata": {
      "needs_background": "light"
     },
     "output_type": "display_data"
    }
   ],
   "source": [
    "import matplotlib.pyplot as plt\n",
    "plt.plot(zippo)\n",
    "plt.show()"
   ]
  },
  {
   "cell_type": "markdown",
   "id": "767dd056",
   "metadata": {},
   "source": [
    "## data and graph above show a dramatic grop in occurrences of nightly lows falling below the threshold of 20F at DCA airport. Note that the last several winter seasons had no nights falling below 20F, something not seen previously in the airport's 60 years of weather observations"
   ]
  },
  {
   "cell_type": "code",
   "execution_count": 48,
   "id": "638ef8a6",
   "metadata": {},
   "outputs": [
    {
     "name": "stdout",
     "output_type": "stream",
     "text": [
      "season\n",
      "1959/1960     NaN\n",
      "1960/1961     NaN\n",
      "1961/1962     NaN\n",
      "1962/1963     NaN\n",
      "1963/1964     NaN\n",
      "1964/1965     NaN\n",
      "1965/1966     NaN\n",
      "1966/1967     NaN\n",
      "1967/1968     NaN\n",
      "1968/1969    10.3\n",
      "1972/1973    11.1\n",
      "1973/1974     9.1\n",
      "1974/1975     8.9\n",
      "1975/1976     8.1\n",
      "1976/1977    11.4\n",
      "1977/1978    13.5\n",
      "1978/1979    15.2\n",
      "1979/1980    16.0\n",
      "1980/1981    18.0\n",
      "1981/1982    19.7\n",
      "1982/1983    19.5\n",
      "1983/1984    21.1\n",
      "1984/1985    22.3\n",
      "1985/1986    23.2\n",
      "1986/1987    19.7\n",
      "1987/1988    18.5\n",
      "1988/1989    17.5\n",
      "1989/1990    18.1\n",
      "1990/1991    16.4\n",
      "1991/1992    15.3\n",
      "1992/1993    15.7\n",
      "1993/1994    16.5\n",
      "1994/1995    15.9\n",
      "1995/1996    16.2\n",
      "1996/1997    16.0\n",
      "1997/1998    14.0\n",
      "1998/1999    13.6\n",
      "1999/2000    12.7\n",
      "2000/2001    13.1\n",
      "2001/2002    12.5\n",
      "2002/2003    13.4\n",
      "2003/2004    13.1\n",
      "2004/2005    13.7\n",
      "2005/2006    11.3\n",
      "2006/2007    13.1\n",
      "2007/2008    13.2\n",
      "2008/2009    14.1\n",
      "2009/2010    14.6\n",
      "2010/2011    13.8\n",
      "2011/2012    13.6\n",
      "2012/2013    12.0\n",
      "2013/2014    11.8\n",
      "2014/2015    12.2\n",
      "2015/2016    13.2\n",
      "2016/2017    11.4\n",
      "2017/2018    13.0\n",
      "2018/2019    12.1\n",
      "2019/2020    10.6\n",
      "2020/2021    10.0\n",
      "2021/2022     9.8\n",
      "Name: MIN, dtype: float64\n"
     ]
    }
   ],
   "source": [
    "ziproll = zippo.rolling(10).mean()\n",
    "print(ziproll)"
   ]
  },
  {
   "cell_type": "code",
   "execution_count": 49,
   "id": "69886cd7",
   "metadata": {},
   "outputs": [
    {
     "data": {
      "image/png": "[encoded data removed]",
      "text/plain": [
       "<Figure size 432x288 with 1 Axes>"
      ]
     },
     "metadata": {
      "needs_background": "light"
     },
     "output_type": "display_data"
    }
   ],
   "source": [
    "import matplotlib.pyplot as plt\n",
    "plt.plot(ziproll)\n",
    "plt.show()"
   ]
  },
  {
   "cell_type": "markdown",
   "id": "818a60fb",
   "metadata": {},
   "source": [
    "## a rolling feature is applied to the linegraph to average each datapoint according to the previous 10 data points to get a more smooth plot. Notice the huge percentage drop in nightly lows falling below this 20F threshold! I find it hard to believe that this can be statistically explained by just a 1.5 Fahrenheit degrees increase in global temperatures."
   ]
  },
  {
   "cell_type": "code",
   "execution_count": 50,
   "id": "11facaeb",
   "metadata": {},
   "outputs": [
    {
     "name": "stdout",
     "output_type": "stream",
     "text": [
      "year  month\n",
      "1960  1        33.496774\n",
      "      2        32.789655\n",
      "      3        29.938710\n",
      "      4        51.596667\n",
      "      5        56.632258\n",
      "                 ...    \n",
      "2021  8        71.758065\n",
      "      9        63.696667\n",
      "      10       57.754839\n",
      "      11       37.823333\n",
      "      12       36.893548\n",
      "Name: MIN, Length: 705, dtype: float64\n"
     ]
    }
   ],
   "source": [
    "df2gb = df2.groupby(['year', 'month'])['MIN'].mean()\n",
    "print(df2gb)"
   ]
  },
  {
   "cell_type": "code",
   "execution_count": 51,
   "id": "7f4377ab",
   "metadata": {},
   "outputs": [
    {
     "name": "stdout",
     "output_type": "stream",
     "text": [
      "<class 'pandas.core.series.Series'>\n"
     ]
    }
   ],
   "source": [
    "print(type(df2gb))"
   ]
  },
  {
   "cell_type": "markdown",
   "id": "3035f27b",
   "metadata": {},
   "source": [
    "## now I will calculate the average nightly lows for each year for the coldest month of the year (January) and the warmest month of the year (July) to see how they compare"
   ]
  },
  {
   "cell_type": "code",
   "execution_count": 52,
   "id": "3174ccf2",
   "metadata": {},
   "outputs": [
    {
     "name": "stdout",
     "output_type": "stream",
     "text": [
      "year\n",
      "1960    33.496774\n",
      "1961    24.948387\n",
      "1962    29.638710\n",
      "1963    26.409677\n",
      "1964    31.809677\n",
      "1965    28.496774\n",
      "1966    29.260000\n",
      "1967    34.833333\n",
      "1968    25.877273\n",
      "1969    29.919048\n",
      "1973    30.370968\n",
      "1974    34.416129\n",
      "1975    30.735484\n",
      "1976    24.303226\n",
      "1977    16.322581\n",
      "1978    23.445161\n",
      "1979    26.464516\n",
      "1980    29.948387\n",
      "1981    24.377419\n",
      "1982    18.000000\n",
      "1983    29.429032\n",
      "1984    23.141935\n",
      "1985    22.203226\n",
      "1986    26.132258\n",
      "1987    26.361290\n",
      "1988    21.545161\n",
      "1989    29.890323\n",
      "1990    33.151613\n",
      "1991    28.632258\n",
      "1992    28.345161\n",
      "1993    31.051613\n",
      "1994    18.916129\n",
      "1995    31.087097\n",
      "1996    23.880645\n",
      "1997    29.829032\n",
      "1998    35.661290\n",
      "1999    30.500000\n",
      "2000    26.990323\n",
      "2001    26.167742\n",
      "2002    31.729032\n",
      "2003    23.903226\n",
      "2004    21.980645\n",
      "2005    27.545161\n",
      "2006    33.354839\n",
      "2007    31.583871\n",
      "2008    31.061290\n",
      "2009    23.503226\n",
      "2010    26.974194\n",
      "2011    26.458065\n",
      "2012    30.912903\n",
      "2013    31.119355\n",
      "2014    21.919355\n",
      "2015    27.035484\n",
      "2016    25.348387\n",
      "2017    34.003226\n",
      "2018    24.796774\n",
      "2019    29.219355\n",
      "2020    33.835484\n",
      "2021    30.848387\n",
      "Name: MIN, dtype: float64\n"
     ]
    }
   ],
   "source": [
    "jandat = df2[df2['month'] == 1]\n",
    "#print(janmin)\n",
    "dfjanminmean = jandat.groupby(['year'])['MIN'].mean()\n",
    "print (dfjanminmean)"
   ]
  },
  {
   "cell_type": "code",
   "execution_count": 53,
   "id": "56cb82be",
   "metadata": {},
   "outputs": [
    {
     "name": "stdout",
     "output_type": "stream",
     "text": [
      "year\n",
      "1960    69.290323\n",
      "1961    71.496774\n",
      "1962    67.667742\n",
      "1963    70.048387\n",
      "1964    71.067742\n",
      "1965    69.809677\n",
      "1966    73.810000\n",
      "1967    71.020000\n",
      "1968    73.145455\n",
      "1969    74.080952\n",
      "1973    68.190323\n",
      "1974    67.100000\n",
      "1975    69.777419\n",
      "1976    67.703226\n",
      "1977    69.848387\n",
      "1978    69.125806\n",
      "1979    70.000000\n",
      "1980    72.267742\n",
      "1981    71.474194\n",
      "1982    70.451613\n",
      "1983    70.138710\n",
      "1984    68.141935\n",
      "1985    68.319355\n",
      "1986    70.974194\n",
      "1987    71.938710\n",
      "1988    70.006452\n",
      "1989    69.203226\n",
      "1990    69.664516\n",
      "1991    71.322581\n",
      "1992    70.077419\n",
      "1993    72.587097\n",
      "1994    72.051613\n",
      "1995    71.512903\n",
      "1996    69.125806\n",
      "1997    69.709677\n",
      "1998    68.538710\n",
      "1999    73.322581\n",
      "2000    65.951613\n",
      "2001    65.229032\n",
      "2002    71.067742\n",
      "2003    68.925806\n",
      "2004    70.000000\n",
      "2005    71.541935\n",
      "2006    70.719355\n",
      "2007    68.496774\n",
      "2008    71.087097\n",
      "2009    66.870968\n",
      "2010    72.706452\n",
      "2011    74.077419\n",
      "2012    74.280645\n",
      "2013    73.393548\n",
      "2014    69.667742\n",
      "2015    72.535484\n",
      "2016    73.422581\n",
      "2017    72.364516\n",
      "2018    71.545161\n",
      "2019    72.206452\n",
      "2020    74.370968\n",
      "2021    71.264516\n",
      "Name: MIN, dtype: float64\n"
     ]
    }
   ],
   "source": [
    "juldat = df2[df2['month'] == 7]\n",
    "#print(janmin)\n",
    "dfjulminmean = juldat.groupby(['year'])['MIN'].mean()\n",
    "print (dfjulminmean)"
   ]
  },
  {
   "cell_type": "code",
   "execution_count": 54,
   "id": "6300056a",
   "metadata": {},
   "outputs": [
    {
     "data": {
      "image/png": "[encoded data removed]",
      "text/plain": [
       "<Figure size 432x288 with 1 Axes>"
      ]
     },
     "metadata": {
      "needs_background": "light"
     },
     "output_type": "display_data"
    }
   ],
   "source": [
    "import matplotlib.pyplot as plt\n",
    "plt.plot(dfjanminmean)\n",
    "plt.plot(dfjulminmean - 40)\n",
    "plt.show()"
   ]
  },
  {
   "cell_type": "markdown",
   "id": "85d1a6a5",
   "metadata": {},
   "source": [
    "### I will now apply a 7 year rolling average to the above raw data to smooth out the curve"
   ]
  },
  {
   "cell_type": "code",
   "execution_count": 55,
   "id": "f9723141",
   "metadata": {},
   "outputs": [
    {
     "data": {
      "image/png": "[encoded data removed]",
      "text/plain": [
       "<Figure size 432x288 with 1 Axes>"
      ]
     },
     "metadata": {
      "needs_background": "light"
     },
     "output_type": "display_data"
    }
   ],
   "source": [
    "import matplotlib.pyplot as plt\n",
    "plt.plot(dfjanminmean.rolling(7).mean())\n",
    "plt.plot((dfjulminmean - 40).rolling(7).mean())\n",
    "plt.show()"
   ]
  },
  {
   "cell_type": "markdown",
   "id": "2c6f7a01",
   "metadata": {},
   "source": [
    "## Average July nightly lows (in yellow) appear to have increased in recent years but the data for January nightly lows seems to be inconclusive.  What I thought would be a significant indication of global warming (i.e. occurrences of extreme cold nights) did not show an outsized indicator of global warming.  Instead, looking at the progression of nightly lows overall and not just focussing on extremely cold nights best exemplifies the effect of global warming in Washington DC.\n",
    "\n"
   ]
  }
 ],
 "metadata": {
  "kernelspec": {
   "display_name": "Python 3 (ipykernel)",
   "language": "python",
   "name": "python3"
  },
  "language_info": {
   "codemirror_mode": {
    "name": "ipython",
    "version": 3
   },
   "file_extension": ".py",
   "mimetype": "text/x-python",
   "name": "python",
   "nbconvert_exporter": "python",
   "pygments_lexer": "ipython3",
   "version": "3.9.7"
  }
 },
 "nbformat": 4,
 "nbformat_minor": 5
}
